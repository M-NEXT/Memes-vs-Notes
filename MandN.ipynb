{
 "cells": [
  {
   "cell_type": "markdown",
   "metadata": {},
   "source": [
    "# Memes vs Notes\n",
    "Memes vs Notes is a binary classifier which classifies an image on the basis of its feature and tells us if it's a meme or a note. An image when passed to the trained model gets classified according to its content. If the image belongs to neither of the two classes then it will classify it in any one of it.\n",
    "- Here we use a convolutional neural network to classify the images"
   ]
  },
  {
   "cell_type": "markdown",
   "metadata": {},
   "source": [
    "### Importing libraries\n",
    "**1) Libraries for preprocessing**\n",
    "- PIL : PIL is the Python Imaging Library by Fredrik Lundh and Contributors. The library supports a wide variety of image file formats. Click [here](https://pillow.readthedocs.io/en/stable/) to read more about PIL.\n",
    "- Image : The Image module provides a class with the same name which is used to represent a PIL image. The module also provides a number of factory functions, including functions to load images from files, and to create new images. Click [here](https://pillow.readthedocs.io/en/stable/reference/Image.html) to read more about Image\n",
    "- numpy : Numpy is the core library for scientific computing in Python. It provides a high-performance multidimensional array object, and tools for working with these arrays\n",
    "- os : This module provides a portable way of using operating system dependent functionality. Click [here](https://docs.python.org/3/library/os.html) to read more about it. For our program we will use to iterate in images in a folder"
   ]
  },
  {
   "cell_type": "code",
   "execution_count": 1,
   "metadata": {},
   "outputs": [],
   "source": [
    "import PIL\n",
    "from PIL import Image\n",
    "import numpy as np\n",
    "import os"
   ]
  },
  {
   "cell_type": "markdown",
   "metadata": {},
   "source": [
    "**2)Libraries for training our model**\n",
    "- torch : PyTorch is a Python package that provides two high-level features:\n",
    "  1. Tensor computation (like NumPy) with strong GPU acceleration\n",
    "  1. Deep neural networks built on a tape-based autograd system\n",
    "\n",
    "To read more about pytorch, click on [pytorch](https://github.com/pytorch/pytorch) to access the github repsitory"
   ]
  },
  {
   "cell_type": "code",
   "execution_count": 2,
   "metadata": {},
   "outputs": [],
   "source": [
    "import torch\n",
    "import torch.nn as nn\n",
    "import torch.optim as optim\n",
    "import torch.nn.functional as F"
   ]
  },
  {
   "cell_type": "markdown",
   "metadata": {},
   "source": [
    "### Preprocessing\n",
    " - If using stage_0 data then run the code below. Copy the location of memes and notes respectively and use it in directory for preprocessing. This block of code will convert all the images to .jpg format and resize them to a size of (256 * 256 * 3). After that it will rename and save the images in the specified folder."
   ]
  },
  {
   "cell_type": "code",
   "execution_count": 3,
   "metadata": {},
   "outputs": [
    {
     "data": {
      "text/plain": [
       "\"directory = r'C:/Users/tpath/Desktop/Stage_0/Memes'        #location of meme folder\\ni = 0\\nfor filename in os.listdir(directory):                        #iterate over images in memes folder\\n    i = i+1\\n    img = Image.open('C:/Users/tpath/Desktop/Stage_0/Memes/'+filename)      # Storing image in variable named (img)\\n    rimg = img.resize((256,256))                                            # Resizing. You can choose other dimensions\\n    rimg.save('C:/Users/tpath/Desktop/Stage_1/Memes/'+str(i)+'.jpg')        # Saving images. first string is the location where\\n                                                                            # where you want to save your image. \\n                                                                            # Second string is the name of the image that you \\n                                                                            # want to save.\\n                                                                            # Third string is the extension\\ndel img,rimg\""
      ]
     },
     "execution_count": 3,
     "metadata": {},
     "output_type": "execute_result"
    }
   ],
   "source": [
    "'''directory = r'C:/Users/tpath/Desktop/Stage_0/Memes'        #location of meme folder\n",
    "i = 0\n",
    "for filename in os.listdir(directory):                        #iterate over images in memes folder\n",
    "    i = i+1\n",
    "    img = Image.open('C:/Users/tpath/Desktop/Stage_0/Memes/'+filename)      # Storing image in variable named (img)\n",
    "    rimg = img.resize((256,256))                                            # Resizing. You can choose other dimensions\n",
    "    rimg.save('C:/Users/tpath/Desktop/Stage_1/Memes/'+str(i)+'.jpg')        # Saving images. first string is the location where\n",
    "                                                                            # where you want to save your image. \n",
    "                                                                            # Second string is the name of the image that you \n",
    "                                                                            # want to save.\n",
    "                                                                            # Third string is the extension\n",
    "del img,rimg'''"
   ]
  },
  {
   "cell_type": "code",
   "execution_count": 4,
   "metadata": {},
   "outputs": [
    {
     "data": {
      "text/plain": [
       "\"directory = r'C:/Users/tpath/Desktop/Stage_0/Notes'\\ni = 0\\nfor filename in os.listdir(directory):\\n    i = i+1\\n    img = Image.open('C:/Users/tpath/Desktop/Stage_0/Notes/'+filename)\\n    rimg = img.resize((256,256))\\n    rimg.save('C:/Users/tpath/Desktop/Stage_1/Notes/'+str(i)+'.jpg')\\n    del img,rimg\""
      ]
     },
     "execution_count": 4,
     "metadata": {},
     "output_type": "execute_result"
    }
   ],
   "source": [
    "'''directory = r'C:/Users/tpath/Desktop/Stage_0/Notes'\n",
    "i = 0\n",
    "for filename in os.listdir(directory):\n",
    "    i = i+1\n",
    "    img = Image.open('C:/Users/tpath/Desktop/Stage_0/Notes/'+filename)\n",
    "    rimg = img.resize((256,256))\n",
    "    rimg.save('C:/Users/tpath/Desktop/Stage_1/Notes/'+str(i)+'.jpg')\n",
    "    del img,rimg'''"
   ]
  },
  {
   "cell_type": "markdown",
   "metadata": {},
   "source": [
    "- There is a folder provided named as Stage_1. It contains preprocessed data. No need to run above two blocks of code if using Stage_1 data. Following block contains code which load our data and label it and store it as our dataset.\n",
    "\n",
    "   **Note:- The following code will create a unshuffled image data i.e. The first 800 images are memes and next 800 are notes**"
   ]
  },
  {
   "cell_type": "code",
   "execution_count": 5,
   "metadata": {},
   "outputs": [],
   "source": [
    "directory = r'C:/Users/tpath/Desktop/Stage_1/Memes/' #Location of preprocessed memes images\n",
    "imgs = []\n",
    "for filename in os.listdir(directory):               #Iterate over images\n",
    "    img = Image.open(directory + filename)\n",
    "    img = np.array(img)                              #Convert images to numpy arrays\n",
    "    img = np.rollaxis(img,2)                         #This function will convert (256*256*3) into (3*256*256) images.\n",
    "                                                     #Its important because pytorch m=module accept images in second format only\n",
    "    img = [img , 1]                                  #Labeling images {1 for memes}\n",
    "    imgs.append(img)\n",
    "directory = r'C:/Users/tpath/Desktop/Stage_1/Notes/' #Location of preprocessed notes images\n",
    "for filename in os.listdir(directory):\n",
    "    img = Image.open(directory + filename)\n",
    "    img = np.array(img)\n",
    "    img = np.rollaxis(img,2)\n",
    "    img = [img , 0]                                  ##Labeling images {0 for notes}\n",
    "    imgs.append(img)"
   ]
  },
  {
   "cell_type": "markdown",
   "metadata": {},
   "source": [
    "### Dividing the image set -\n",
    "- Dividing the image set into 3 sets:\n",
    " 1. Train set with 1500 examples\n",
    " 1. Test set with 50 examples\n",
    " 1. Val set with 50 example\n",
    " \n",
    "**Note:- The training set must be balanced otherwise the model will bias towards one of the class**"
   ]
  },
  {
   "cell_type": "code",
   "execution_count": 6,
   "metadata": {},
   "outputs": [],
   "source": [
    "train_set = imgs[0:750] + imgs[800:1550]\n",
    "test_set = imgs[750:775] + imgs[1550:1575]\n",
    "val_set = imgs[775:800] + imgs[1575:1600]\n",
    "np.random.shuffle(train_set)\n",
    "np.random.shuffle(test_set)\n",
    "np.random.shuffle(val_set)"
   ]
  },
  {
   "cell_type": "markdown",
   "metadata": {},
   "source": [
    "### Dataloader -\n",
    "- For better training of the model, we pass our train_set in the following function. The batch_maker function creates batches of specified length and store them in an array named loader_set. If no batch size is specified, 1 is selected and weights are updated after every iteration"
   ]
  },
  {
   "cell_type": "code",
   "execution_count": 7,
   "metadata": {},
   "outputs": [],
   "source": [
    "def batch_maker(t_set, batch_size=1):\n",
    "    loader_set = []\n",
    "    for i in range(0,len(t_set),batch_size):\n",
    "        t_data = []\n",
    "        t_label = []\n",
    "        for j in range(batch_size):\n",
    "            t_data.append(t_set[i+j][0])\n",
    "            t_label.append(t_set[i+j][1])\n",
    "        loader_set.append([t_data , t_label])\n",
    "    return loader_set"
   ]
  },
  {
   "cell_type": "markdown",
   "metadata": {},
   "source": [
    "## Class for Training model - \n",
    "We use pytorch's nn library to make a class that will feed forward our input data while keeping track on the weight tensors and biases.\n",
    "\n",
    "**1) Convolutional Neural Network model - Network1**  \n",
    "**2) Linear Layer Neural Network model  - Network2** "
   ]
  },
  {
   "cell_type": "code",
   "execution_count": 8,
   "metadata": {},
   "outputs": [],
   "source": [
    "class Network1(nn.Module):\n",
    "    def __init__(self):\n",
    "        super(Network1, self).__init__()                                          # Inheriting all atrributes and methods from module base class\n",
    "        self.conv1 = nn.Conv2d(in_channels=3 , out_channels=8 , kernel_size=7)   # Creating Convolutional layer 1\n",
    "        self.conv2 = nn.Conv2d(in_channels=8 , out_channels=16 , kernel_size=6)  # Creating Convolutional layer 2\n",
    "        \n",
    "        self.fc1 = nn.Linear(in_features=16*60*60 , out_features=50 , bias=True) # Creating dense layer 1\n",
    "        self.fc2 = nn.Linear(in_features=50 , out_features=20 , bias=True)       # Creating dense layer 2\n",
    "        self.fc3 = nn.Linear(in_features=20 , out_features=2 , bias=True)        # Creating dense layer 3\n",
    "    \n",
    "    def forward(self, t):\n",
    "        \n",
    "        t = self.conv1(t)                               # Implementing Convolutional layer 1\n",
    "        t = F.relu(t)\n",
    "        t = F.max_pool2d(t ,kernel_size=2 ,stride=2)\n",
    "        \n",
    "        t = self.conv2(t)                               # Implementing Convolutional layer 2\n",
    "        t = F.relu(t)\n",
    "        t = F.max_pool2d(t ,kernel_size=2 ,stride=2)\n",
    "        \n",
    "        t = t.reshape(-1,16*60*60)                      # Implementing dense layer 1\n",
    "        t = self.fc1(t)\n",
    "        t = F.relu(t)\n",
    "        \n",
    "        t = self.fc2(t)                                 # Implementing dense layer 2\n",
    "        t = F.relu(t)\n",
    "        \n",
    "        t = self.fc3(t)                                 # Implementing dense layer 3\n",
    "        return t"
   ]
  },
  {
   "cell_type": "code",
   "execution_count": 9,
   "metadata": {},
   "outputs": [],
   "source": [
    "class Network2(nn.Module):\n",
    "    def __init__(self):\n",
    "        super(Network2, self).__init__()                                          # Inheriting all atrributes and methods from module base class\n",
    "        \n",
    "        self.fc1 = nn.Linear(in_features=3*256*256 , out_features=300 , bias=True) # Creating dense layer 1\n",
    "        self.fc2 = nn.Linear(in_features=300 , out_features=100 , bias=True)       # Creating dense layer 2\n",
    "        self.fc3 = nn.Linear(in_features=100 , out_features=2 , bias=True)        # Creating dense layer 3\n",
    "    \n",
    "    def forward(self, t):\n",
    "        \n",
    "        t = t.reshape(-1,3*256*256)                      # Implementing dense layer 1\n",
    "        t = self.fc1(t)\n",
    "        t = F.relu(t)\n",
    "        \n",
    "        t = self.fc2(t)                                 # Implementing dense layer 2\n",
    "        t = F.relu(t)\n",
    "        \n",
    "        t = self.fc3(t)                                 # Implementing dense layer 3\n",
    "        return t"
   ]
  },
  {
   "cell_type": "markdown",
   "metadata": {},
   "source": [
    "### Functions which are necessary to for us to analyse model\n",
    "- get_num_correct(preds, labels) : This function returns the number of correct output\n",
    "- testing(tset) : This function returns accuracy in percentage of any set that is passed through it"
   ]
  },
  {
   "cell_type": "code",
   "execution_count": 10,
   "metadata": {},
   "outputs": [],
   "source": [
    "def get_num_correct(preds, labels):                      #Returns number of correct outputs\n",
    "    return preds.argmax(dim=1).eq(labels).sum().item()"
   ]
  },
  {
   "cell_type": "code",
   "execution_count": 11,
   "metadata": {},
   "outputs": [],
   "source": [
    "def testing(tset):                                    #This function returns total number of correctly classified outputs\n",
    "    batch_set = batch_maker(tset, len(tset))\n",
    "    images,labels = next(iter(batch_set))\n",
    "    images = torch.tensor(images, dtype=torch.float32)\n",
    "    images = images/256\n",
    "    labels = torch.tensor(labels)\n",
    "    total_correct = 0\n",
    "    preds = network(images)\n",
    "    preds = F.softmax(preds, dim=1)\n",
    "    total_correct += get_num_correct(preds, labels)\n",
    "    return total_correct"
   ]
  },
  {
   "cell_type": "markdown",
   "metadata": {},
   "source": [
    "## Creating an instance of out Network class and training our model - \n",
    "Following code will train our model and give us the number of correctly classified outputs:\n",
    "\n",
    "### Network1 :-"
   ]
  },
  {
   "cell_type": "code",
   "execution_count": 12,
   "metadata": {},
   "outputs": [],
   "source": [
    "network = Network1()\n",
    "network = network.cuda()\n",
    "optimizer = optim.Adam(network.parameters(), lr=0.002)"
   ]
  },
  {
   "cell_type": "code",
   "execution_count": 13,
   "metadata": {},
   "outputs": [
    {
     "name": "stdout",
     "output_type": "stream",
     "text": [
      "epoch 0  train_set total_correct: 80.06666666666666 % loss: 43.050577275455\n",
      "\t    val_set 84.0 %\n",
      "\t   test_set 84.0 %\n",
      "epoch 1  train_set total_correct: 77.13333333333334 % loss: 37.763400349766016\n",
      "\t    val_set 50.0 %\n",
      "\t   test_set 50.0 %\n",
      "epoch 2  train_set total_correct: 86.13333333333334 % loss: 27.11660135537386\n",
      "\t    val_set 96.0 %\n",
      "\t   test_set 94.0 %\n",
      "epoch 3  train_set total_correct: 96.86666666666666 % loss: 13.700265852734447\n",
      "\t    val_set 92.0 %\n",
      "\t   test_set 96.0 %\n",
      "epoch 4  train_set total_correct: 98.0 % loss: 6.110912315547466\n",
      "\t    val_set 98.0 %\n",
      "\t   test_set 98.0 %\n"
     ]
    }
   ],
   "source": [
    "batch_set = batch_maker(train_set, 20)\n",
    "loss_track = []\n",
    "correct_track = []\n",
    "epoch_num = []\n",
    "for epoch in range(5):\n",
    "    epoch_num.append(epoch)\n",
    "    total_loss = 0\n",
    "    total_correct = 0\n",
    "\n",
    "    for batch in batch_set: # Get Batch\n",
    "        \n",
    "        images, labels = batch\n",
    "        images = torch.tensor(images, dtype = torch.float32)\n",
    "        images = images/256             #normalizing\n",
    "        images = images.cuda()\n",
    "        labels = torch.tensor(labels)\n",
    "        labels = labels.cuda()\n",
    "\n",
    "        preds = network(images)               # Pass Batch\n",
    "        loss = F.cross_entropy(preds, labels) # Calculate Loss\n",
    "\n",
    "        optimizer.zero_grad()\n",
    "        loss.backward()  # Calculate Gradients\n",
    "        optimizer.step() # Update Weights\n",
    "\n",
    "        total_loss += loss.item()\n",
    "        total_correct += get_num_correct(preds, labels)\n",
    "        \n",
    "    loss_track.append(total_loss)\n",
    "    correct_track.append(total_correct)\n",
    "    \n",
    "    print(\"epoch\", epoch, \" train_set total_correct:\", total_correct/(len(train_set)*0.01),'%', \"loss:\", total_loss)\n",
    "    \n",
    "    network = network.cpu()\n",
    "    print('\\t    val_set', testing(val_set)/(len(val_set)*0.01),'%')\n",
    "    testing(val_set)\n",
    "    print('\\t   test_set', testing(test_set)/(len(test_set)*0.01),'%')\n",
    "    network = network.cuda()"
   ]
  },
  {
   "cell_type": "markdown",
   "metadata": {},
   "source": [
    "## Analysing our model-\n",
    "- matplotlib .pyplot helps us to plot graph between variables with ease"
   ]
  },
  {
   "cell_type": "code",
   "execution_count": 14,
   "metadata": {},
   "outputs": [],
   "source": [
    "import matplotlib.pyplot as plt"
   ]
  },
  {
   "cell_type": "code",
   "execution_count": 15,
   "metadata": {},
   "outputs": [
    {
     "data": {
      "text/plain": [
       "Text(0, 0.5, 'total loss')"
      ]
     },
     "execution_count": 15,
     "metadata": {},
     "output_type": "execute_result"
    },
    {
     "data": {
      "image/png": "[encoded data removed]",
      "text/plain": [
       "<Figure size 432x288 with 1 Axes>"
      ]
     },
     "metadata": {
      "needs_background": "light"
     },
     "output_type": "display_data"
    }
   ],
   "source": [
    "plt.plot(epoch_num, loss_track)\n",
    "plt.xlabel('no. of epochs')\n",
    "plt.ylabel('total loss')"
   ]
  },
  {
   "cell_type": "code",
   "execution_count": 16,
   "metadata": {},
   "outputs": [
    {
     "data": {
      "text/plain": [
       "Text(0, 0.5, 'correct output ')"
      ]
     },
     "execution_count": 16,
     "metadata": {},
     "output_type": "execute_result"
    },
    {
     "data": {
      "image/png": "[encoded data removed]",
      "text/plain": [
       "<Figure size 432x288 with 1 Axes>"
      ]
     },
     "metadata": {
      "needs_background": "light"
     },
     "output_type": "display_data"
    }
   ],
   "source": [
    "plt.plot(epoch_num, correct_track)\n",
    "plt.xlabel('no. of epochs')\n",
    "plt.ylabel('correct output ')"
   ]
  },
  {
   "cell_type": "markdown",
   "metadata": {},
   "source": [
    "### Network2 :-"
   ]
  },
  {
   "cell_type": "code",
   "execution_count": 19,
   "metadata": {},
   "outputs": [],
   "source": [
    "network = Network2()\n",
    "network = network.cuda()\n",
    "optimizer = optim.Adam(network.parameters(), lr=0.002)"
   ]
  },
  {
   "cell_type": "code",
   "execution_count": 20,
   "metadata": {
    "scrolled": true
   },
   "outputs": [
    {
     "name": "stdout",
     "output_type": "stream",
     "text": [
      "epoch 0  train_set total_correct: 63.93333333333333 % loss: 508.74907456338406\n",
      "\t    val_set 72.0 %\n",
      "\t   test_set 70.0 %\n",
      "epoch 1  train_set total_correct: 79.66666666666667 % loss: 65.74041526578367\n",
      "\t    val_set 80.0 %\n",
      "\t   test_set 88.0 %\n",
      "epoch 2  train_set total_correct: 85.93333333333334 % loss: 26.47014795988798\n",
      "\t    val_set 74.0 %\n",
      "\t   test_set 84.0 %\n",
      "epoch 3  train_set total_correct: 88.26666666666667 % loss: 21.899101354181767\n",
      "\t    val_set 76.0 %\n",
      "\t   test_set 92.0 %\n",
      "epoch 4  train_set total_correct: 91.53333333333333 % loss: 15.942076412960887\n",
      "\t    val_set 82.0 %\n",
      "\t   test_set 94.0 %\n"
     ]
    }
   ],
   "source": [
    "batch_set = batch_maker(train_set, 20)\n",
    "loss_track = []\n",
    "correct_track = []\n",
    "epoch_num = []\n",
    "for epoch in range(5):\n",
    "    epoch_num.append(epoch)\n",
    "    total_loss = 0\n",
    "    total_correct = 0\n",
    "\n",
    "    for batch in batch_set: # Get Batch\n",
    "        \n",
    "        images, labels = batch\n",
    "        images = torch.tensor(images, dtype = torch.float32)\n",
    "        images = images/256            #normalizing\n",
    "        images = images.cuda()\n",
    "        labels = torch.tensor(labels)\n",
    "        labels = labels.cuda()\n",
    "\n",
    "        preds = network(images)               # Pass Batch\n",
    "        loss = F.cross_entropy(preds, labels) # Calculate Loss\n",
    "\n",
    "        optimizer.zero_grad()\n",
    "        loss.backward()  # Calculate Gradients\n",
    "        optimizer.step() # Update Weights\n",
    "\n",
    "        total_loss += loss.item()\n",
    "        total_correct += get_num_correct(preds, labels)\n",
    "        \n",
    "    loss_track.append(total_loss)\n",
    "    correct_track.append(total_correct)\n",
    "    \n",
    "    print(\"epoch\", epoch, \" train_set total_correct:\", total_correct/(len(train_set)*0.01),'%', \"loss:\", total_loss)\n",
    "    \n",
    "    network = network.cpu()\n",
    "    print('\\t    val_set', testing(val_set)/(len(val_set)*0.01),'%')\n",
    "    testing(val_set)\n",
    "    print('\\t   test_set', testing(test_set)/(len(test_set)*0.01),'%')\n",
    "    network = network.cuda()"
   ]
  },
  {
   "cell_type": "markdown",
   "metadata": {},
   "source": [
    "## Analysing our model-\n",
    "- matplotlib .pyplot helps us to plot graph between variables with ease"
   ]
  },
  {
   "cell_type": "code",
   "execution_count": 24,
   "metadata": {},
   "outputs": [
    {
     "data": {
      "text/plain": [
       "Text(0, 0.5, 'total loss')"
      ]
     },
     "execution_count": 24,
     "metadata": {},
     "output_type": "execute_result"
    },
    {
     "data": {
      "image/png": "[encoded data removed]",
      "text/plain": [
       "<Figure size 432x288 with 1 Axes>"
      ]
     },
     "metadata": {
      "needs_background": "light"
     },
     "output_type": "display_data"
    }
   ],
   "source": [
    "plt.plot(epoch_num, loss_track)\n",
    "plt.xlabel('no. of epochs')\n",
    "plt.ylabel('total loss')"
   ]
  },
  {
   "cell_type": "code",
   "execution_count": 25,
   "metadata": {},
   "outputs": [
    {
     "data": {
      "text/plain": [
       "Text(0, 0.5, 'correct output ')"
      ]
     },
     "execution_count": 25,
     "metadata": {},
     "output_type": "execute_result"
    },
    {
     "data": {
      "image/png": "[encoded data removed]",
      "text/plain": [
       "<Figure size 432x288 with 1 Axes>"
      ]
     },
     "metadata": {
      "needs_background": "light"
     },
     "output_type": "display_data"
    }
   ],
   "source": [
    "plt.plot(epoch_num, correct_track)\n",
    "plt.xlabel('no. of epochs')\n",
    "plt.ylabel('correct output ')"
   ]
  },
  {
   "cell_type": "code",
   "execution_count": null,
   "metadata": {},
   "outputs": [],
   "source": []
  }
 ],
 "metadata": {
  "kernelspec": {
   "display_name": "Python 3",
   "language": "python",
   "name": "python3"
  },
  "language_info": {
   "codemirror_mode": {
    "name": "ipython",
    "version": 3
   },
   "file_extension": ".py",
   "mimetype": "text/x-python",
   "name": "python",
   "nbconvert_exporter": "python",
   "pygments_lexer": "ipython3",
   "version": "3.7.6"
  }
 },
 "nbformat": 4,
 "nbformat_minor": 4
}
