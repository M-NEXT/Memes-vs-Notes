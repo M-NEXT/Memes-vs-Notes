{
 "cells": [
  {
   "cell_type": "markdown",
   "metadata": {},
   "source": [
    "# Memes vs Notes\n",
    "This is the numpy version of same classifier we used before but everything is made from scratch."
   ]
  },
  {
   "cell_type": "code",
   "execution_count": 31,
   "metadata": {},
   "outputs": [],
   "source": [
    "import numpy as np"
   ]
  },
  {
   "cell_type": "code",
   "execution_count": 32,
   "metadata": {},
   "outputs": [],
   "source": [
    "import PIL\n",
    "from PIL import Image\n",
    "import numpy as np\n",
    "import os"
   ]
  },
  {
   "cell_type": "code",
   "execution_count": 33,
   "metadata": {},
   "outputs": [],
   "source": [
    "def init_items(sizes):\n",
    "    W = []\n",
    "    B = []\n",
    "    for i,j in zip(sizes[1:], sizes[:-1]):\n",
    "        w = np.random.randn(i,j) * 0.01\n",
    "        b = np.random.randn(i,1) * 0.01\n",
    "        W.append(w)\n",
    "        B.append(b)\n",
    "        print(w.shape, b.shape)\n",
    "        length = len(sizes)\n",
    "    return W,B,length"
   ]
  },
  {
   "cell_type": "code",
   "execution_count": 34,
   "metadata": {},
   "outputs": [],
   "source": [
    "def network(X, Y, W, B, epochs, size):\n",
    "    n = Y.shape[1]\n",
    "    minibatch = 50\n",
    "    cost_list = []\n",
    "    train_accu = []\n",
    "    test_accu = []\n",
    "    val_accu = []\n",
    "    #print('no .of examples = ', n)\n",
    "    for epoch in range(epochs):\n",
    "\n",
    "        print('Epoch : ',epoch, '\\t',end='')\n",
    "        X_mini = []\n",
    "        Y_mini = []\n",
    "        for k in range(0, n, minibatch ):\n",
    "            X_mini.append(X[:, k:k+minibatch])\n",
    "            Y_mini.append(Y[:, k:k+minibatch])\n",
    "        for x,y in zip(X_mini,Y_mini):\n",
    "            Y_des = Y_desired(y)\n",
    "            backprop(x, Y_des, W, B, minibatch, size)\n",
    "         \n",
    "        Y_des_1 = Y_desired(Y)\n",
    "        A = predict_Y(X, W, B)\n",
    "        print('cost : ',cost(Y_des_1, A))\n",
    "        cost_list.append(cost(Y_des_1, A))\n",
    "        \n",
    "        t = accuracy_check(train_set)\n",
    "        train_accu.append(t)\n",
    "        print('Train accuracy : ',t,end = ' , ')\n",
    "        \n",
    "        t = accuracy_check(val_set)\n",
    "        val_accu.append(t)\n",
    "        print('valid accuracy : ',t,end = ' , ')\n",
    "        \n",
    "        t = accuracy_check(test_set)\n",
    "        test_accu.append(t)\n",
    "        print('Test accuracy : ',t)\n",
    "        print()\n",
    "    return cost_list, train_accu, val_accu, test_accu"
   ]
  },
  {
   "cell_type": "code",
   "execution_count": 35,
   "metadata": {},
   "outputs": [],
   "source": [
    "def backprop(X, Y_des, W, B, mini_size, size):\n",
    "    A = for_prop(X, W, B)\n",
    "    dZ = A[-1] - Y_des\n",
    "    #print(dZ.shape, A[-2].T.shape, mini_size)\n",
    "    dW = np.dot(dZ, A[-2].T)/mini_size\n",
    "    dB = np.sum(dZ, axis=1, keepdims = True)/mini_size\n",
    "    delta_W = [dW]\n",
    "    delta_B = [dB]\n",
    "    #print(size)\n",
    "    for i in range(2, size):\n",
    "        dZ = np.dot(W[-i+1].T, dZ) * A[-i] * (1-A[-i])\n",
    "        dW = np.dot(dZ, A[-i-1].T)/mini_size\n",
    "        dB = np.sum(dZ, axis=1, keepdims = True)/mini_size\n",
    "        delta_W.append(dW)\n",
    "        delta_B.append(dB)\n",
    "    for i in range(size-1):\n",
    "        W[i] = W[i] - delta_W[size-2-i] * 0.5\n",
    "        #print('before b : ', B[i].shape, delta_B[size-2-i].shape)\n",
    "        B[i] = B[i] - delta_B[size-2-i] * 0.5\n",
    "        #print('afterr b : ', B[i].shape)\n",
    "\n",
    "    #return W,B"
   ]
  },
  {
   "cell_type": "code",
   "execution_count": 36,
   "metadata": {},
   "outputs": [],
   "source": [
    "def for_prop(X, W, B):\n",
    "    A = X\n",
    "    A_cache = [A]\n",
    "    for w,b in zip(W,B):\n",
    "        Z = np.dot(w, A) + b\n",
    "        A = sigmoid(Z)\n",
    "        A_cache.append(A)\n",
    "    return A_cache"
   ]
  },
  {
   "cell_type": "code",
   "execution_count": 37,
   "metadata": {},
   "outputs": [],
   "source": [
    "def sigmoid(Z):\n",
    "    return 1/(1 + np.exp(-Z))"
   ]
  },
  {
   "cell_type": "code",
   "execution_count": 38,
   "metadata": {},
   "outputs": [],
   "source": [
    "def Y_desired(Y):\n",
    "    Y_des = np.zeros((2, Y.shape[1]))\n",
    "    for i in range(Y_des.shape[0]):\n",
    "        for j in range(Y_des.shape[1]):\n",
    "            if Y[0,j] == i:\n",
    "                Y_des[i,j] = 1\n",
    "    return Y_des"
   ]
  },
  {
   "cell_type": "code",
   "execution_count": 39,
   "metadata": {},
   "outputs": [],
   "source": [
    "def cost(Y_des, A):\n",
    "    L = (Y_des*np.log(A) + (1-Y_des)*np.log(1-A))\n",
    "    L = -L\n",
    "    J = np.sum(L, axis=1)/A.shape[1]\n",
    "    J = np.sum(J, axis=0)/A.shape[0]\n",
    "    return(J)"
   ]
  },
  {
   "cell_type": "code",
   "execution_count": 40,
   "metadata": {},
   "outputs": [],
   "source": [
    "def predict_Y(X, W ,B):\n",
    "    A = X\n",
    "    for w,b in zip(W,B):\n",
    "        #print(w.shape,A.shape)\n",
    "        Z = np.dot(w, A) + b\n",
    "        A = sigmoid(Z)\n",
    "    return A"
   ]
  },
  {
   "cell_type": "code",
   "execution_count": 41,
   "metadata": {},
   "outputs": [],
   "source": [
    "def rgb2gray(img):\n",
    "\n",
    "    r, g, b = img[:,:,0], img[:,:,1], img[:,:,2]\n",
    "    gray = 0.2989 * r + 0.5870 * g + 0.1140 * b\n",
    "\n",
    "    return gray"
   ]
  },
  {
   "cell_type": "code",
   "execution_count": 42,
   "metadata": {},
   "outputs": [],
   "source": [
    "directory = r'C:/Users/tpath/Desktop/GitHub/Stage_1/Memes/' #Location of preprocessed memes images\n",
    "imgs = []\n",
    "for filename in os.listdir(directory):               #Iterate over images\n",
    "    img = Image.open(directory + filename)\n",
    "    img = img.resize((80,80))  \n",
    "    img = np.array(img)                              #Convert images to numpy arrays\n",
    "    img = rgb2gray(img)\n",
    "    img = np.reshape(img,-1)                         #This function will convert (256*256*3) into (3*256*256) images.                                               #Its important because pytorch m=module accept images in second format only\n",
    "    img = [img , 1]                                  #Labeling images {1 for memes}\n",
    "    imgs.append(img)\n",
    "directory = r'C:/Users/tpath/Desktop/GitHub/Stage_1/Notes/' #Location of preprocessed notes images\n",
    "for filename in os.listdir(directory):\n",
    "    img = Image.open(directory + filename)\n",
    "    img = img.resize((80,80))\n",
    "    img = np.array(img)\n",
    "    img = rgb2gray(img)\n",
    "    img = np.reshape(img,-1)\n",
    "    img = [img , 0]                                  ##Labeling images {0 for notes}\n",
    "    imgs.append(img)"
   ]
  },
  {
   "cell_type": "code",
   "execution_count": 43,
   "metadata": {},
   "outputs": [
    {
     "data": {
      "text/plain": [
       "(6400,)"
      ]
     },
     "execution_count": 43,
     "metadata": {},
     "output_type": "execute_result"
    }
   ],
   "source": [
    "imgs[0][0].shape"
   ]
  },
  {
   "cell_type": "code",
   "execution_count": 44,
   "metadata": {},
   "outputs": [],
   "source": [
    "train_set = imgs[0:750] + imgs[800:1550]\n",
    "test_set = imgs[750:775] + imgs[1550:1575]\n",
    "val_set = imgs[775:800] + imgs[1575:1600]\n",
    "np.random.shuffle(train_set)\n",
    "np.random.shuffle(test_set)\n",
    "np.random.shuffle(val_set)"
   ]
  },
  {
   "cell_type": "code",
   "execution_count": 45,
   "metadata": {},
   "outputs": [
    {
     "data": {
      "text/plain": [
       "6400"
      ]
     },
     "execution_count": 45,
     "metadata": {},
     "output_type": "execute_result"
    }
   ],
   "source": [
    "len(train_set)\n",
    "train_set[0][0].shape[0]"
   ]
  },
  {
   "cell_type": "code",
   "execution_count": 46,
   "metadata": {},
   "outputs": [],
   "source": [
    "def batch_maker(t_set, batch_size=1):\n",
    "    loader_set = []\n",
    "    for i in range(0,len(t_set),batch_size):\n",
    "        t_data = []\n",
    "        t_label = []\n",
    "        for j in range(batch_size):\n",
    "            t_data.append(t_set[i+j][0])\n",
    "            t_label.append(t_set[i+j][1])\n",
    "        loader_set.append([t_data , t_label])\n",
    "    return loader_set"
   ]
  },
  {
   "cell_type": "code",
   "execution_count": 47,
   "metadata": {},
   "outputs": [],
   "source": [
    "def accuracy_check(t_set):\n",
    "    '''A_test = predict_Y(X, W, B)\n",
    "    A_hat = []\n",
    "    for i in range(Y.shape[1]):\n",
    "        a = np.argmax(A_test[:, i])\n",
    "        A_hat.append(a)\n",
    "        #print(A_hat)\n",
    "    count = 0\n",
    "    for i in range(Y.shape[1]):\n",
    "        if Y[0,i] == A_hat[i]:\n",
    "            count += 1\n",
    "    print('train accuracy = ', count/1500)'''\n",
    "    \n",
    "    load = batch_maker(t_set, len(t_set))\n",
    "    X_test = load[0][0]\n",
    "    X_test = np.array(X_test).T\n",
    "    X_test = X_test/256\n",
    "    #print(X_test.shape)\n",
    "    Y_test = load[0][1]\n",
    "    Y_test = np.array(Y_test)\n",
    "    Y_test = Y_test.reshape(1,Y_test.shape[0])\n",
    "    #print(Y_test.shape)\n",
    "    \n",
    "    A_test = predict_Y(X_test, W, B)\n",
    "    A_hat = []\n",
    "    for i in range(Y_test.shape[1]):\n",
    "        a = np.argmax(A_test[:, i])\n",
    "        A_hat.append(a)\n",
    "        #print(A_hat)\n",
    "    count = 0\n",
    "    for i in range(Y_test.shape[1]):\n",
    "        if Y_test[0,i] == A_hat[i]:\n",
    "            count += 1\n",
    "    return (count/len(t_set))*100\n",
    "    \n",
    "    \n",
    "    '''load = batch_maker(test_set, 50)\n",
    "    X_test = load[0][0]\n",
    "    X_test = np.array(X_test).T\n",
    "    X_test = X_test/256\n",
    "    #print(X_test.shape)\n",
    "    Y_test = load[0][1]\n",
    "    Y_test = np.array(Y_test)\n",
    "    Y_test = Y_test.reshape(1,Y_test.shape[0])\n",
    "    #print(Y_test.shape)\n",
    "    \n",
    "    A_test = predict_Y(X_test, W, B)\n",
    "    A_hat = []\n",
    "    for i in range(Y_test.shape[1]):\n",
    "        a = np.argmax(A_test[:, i])\n",
    "        A_hat.append(a)\n",
    "        #print(A_hat)\n",
    "    count = 0\n",
    "    for i in range(Y_test.shape[1]):\n",
    "        if Y_test[0,i] == A_hat[i]:\n",
    "            count += 1\n",
    "    print('test accuracy = ', count/50)'''"
   ]
  },
  {
   "cell_type": "code",
   "execution_count": 48,
   "metadata": {},
   "outputs": [],
   "source": [
    "load = batch_maker(train_set, 1500)"
   ]
  },
  {
   "cell_type": "code",
   "execution_count": 49,
   "metadata": {},
   "outputs": [
    {
     "name": "stdout",
     "output_type": "stream",
     "text": [
      "(1, 1500)\n"
     ]
    }
   ],
   "source": [
    "X_train = load[0][0]\n",
    "X_train = np.array(X_train).T\n",
    "X_train = X_train/256\n",
    "#print(X.shape)\n",
    "Y_train = load[0][1]\n",
    "Y_train = np.array(Y_train)\n",
    "Y_train = Y_train.reshape(1,Y_train.shape[0])\n",
    "print(Y_train.shape)"
   ]
  },
  {
   "cell_type": "code",
   "execution_count": 56,
   "metadata": {},
   "outputs": [
    {
     "name": "stdout",
     "output_type": "stream",
     "text": [
      "(1000, 6400) (1000, 1)\n",
      "(100, 1000) (100, 1)\n",
      "(2, 100) (2, 1)\n"
     ]
    }
   ],
   "source": [
    "W,B,size = init_items([train_set[0][0].shape[0],1000,100,2])"
   ]
  },
  {
   "cell_type": "code",
   "execution_count": 57,
   "metadata": {},
   "outputs": [
    {
     "name": "stdout",
     "output_type": "stream",
     "text": [
      "Epoch :  0 \tcost :  0.693137153177501\n",
      "Train accuracy :  50.0 , valid accuracy :  50.0 , Test accuracy :  50.0\n",
      "\n",
      "Epoch :  1 \tcost :  0.6916256005436723\n",
      "Train accuracy :  64.46666666666667 , valid accuracy :  96.0 , Test accuracy :  54.0\n",
      "\n",
      "Epoch :  2 \tcost :  0.6880332730332588\n",
      "Train accuracy :  68.4 , valid accuracy :  98.0 , Test accuracy :  60.0\n",
      "\n",
      "Epoch :  3 \tcost :  0.6719144120213381\n",
      "Train accuracy :  75.6 , valid accuracy :  96.0 , Test accuracy :  84.0\n",
      "\n",
      "Epoch :  4 \tcost :  0.5691235751602037\n",
      "Train accuracy :  83.33333333333334 , valid accuracy :  90.0 , Test accuracy :  80.0\n",
      "\n",
      "Epoch :  5 \tcost :  0.47433026569267434\n",
      "Train accuracy :  80.60000000000001 , valid accuracy :  90.0 , Test accuracy :  78.0\n",
      "\n",
      "Epoch :  6 \tcost :  0.4414969999247429\n",
      "Train accuracy :  82.73333333333333 , valid accuracy :  90.0 , Test accuracy :  82.0\n",
      "\n",
      "Epoch :  7 \tcost :  0.42371307218248005\n",
      "Train accuracy :  83.8 , valid accuracy :  90.0 , Test accuracy :  80.0\n",
      "\n",
      "Epoch :  8 \tcost :  0.40227616154204193\n",
      "Train accuracy :  84.46666666666667 , valid accuracy :  90.0 , Test accuracy :  80.0\n",
      "\n",
      "Epoch :  9 \tcost :  0.3776841974697517\n",
      "Train accuracy :  86.2 , valid accuracy :  92.0 , Test accuracy :  84.0\n",
      "\n",
      "Epoch :  10 \tcost :  0.30003404919506305\n",
      "Train accuracy :  90.60000000000001 , valid accuracy :  90.0 , Test accuracy :  90.0\n",
      "\n",
      "Epoch :  11 \tcost :  0.28720430194703517\n",
      "Train accuracy :  90.46666666666667 , valid accuracy :  88.0 , Test accuracy :  90.0\n",
      "\n",
      "Epoch :  12 \tcost :  0.28640669972072946\n",
      "Train accuracy :  90.60000000000001 , valid accuracy :  90.0 , Test accuracy :  90.0\n",
      "\n",
      "Epoch :  13 \tcost :  0.33964635927720155\n",
      "Train accuracy :  88.53333333333333 , valid accuracy :  88.0 , Test accuracy :  88.0\n",
      "\n",
      "Epoch :  14 \tcost :  0.2887634380518274\n",
      "Train accuracy :  90.33333333333333 , valid accuracy :  90.0 , Test accuracy :  90.0\n",
      "\n"
     ]
    }
   ],
   "source": [
    "nepoch = 15\n",
    "cost_list, train_accu, val_accu, test_accu = network(X_train, Y_train, W, B, nepoch, size)"
   ]
  },
  {
   "cell_type": "code",
   "execution_count": 58,
   "metadata": {},
   "outputs": [],
   "source": [
    "import matplotlib.pyplot as plt"
   ]
  },
  {
   "cell_type": "code",
   "execution_count": 59,
   "metadata": {},
   "outputs": [],
   "source": [
    "nepoch = 15\n",
    "epoch_num = list(range(nepoch))"
   ]
  },
  {
   "cell_type": "code",
   "execution_count": 60,
   "metadata": {},
   "outputs": [
    {
     "data": {
      "text/plain": [
       "Text(0, 0.5, 'total loss')"
      ]
     },
     "execution_count": 60,
     "metadata": {},
     "output_type": "execute_result"
    },
    {
     "data": {
      "image/png": "[encoded data removed]",
      "text/plain": [
       "<Figure size 432x288 with 1 Axes>"
      ]
     },
     "metadata": {
      "needs_background": "light"
     },
     "output_type": "display_data"
    }
   ],
   "source": [
    "plt.plot(epoch_num, cost_list)\n",
    "plt.xlabel('no. of epochs')\n",
    "plt.ylabel('total loss')"
   ]
  },
  {
   "cell_type": "code",
   "execution_count": 61,
   "metadata": {},
   "outputs": [
    {
     "data": {
      "text/plain": [
       "<matplotlib.legend.Legend at 0x1c30b784ec8>"
      ]
     },
     "execution_count": 61,
     "metadata": {},
     "output_type": "execute_result"
    },
    {
     "data": {
      "image/png": "[encoded data removed]",
      "text/plain": [
       "<Figure size 432x288 with 1 Axes>"
      ]
     },
     "metadata": {
      "needs_background": "light"
     },
     "output_type": "display_data"
    }
   ],
   "source": [
    "plt.plot(epoch_num, train_accu, label = 'train accuracy')\n",
    "plt.plot(epoch_num, val_accu, label= 'val accuracy')\n",
    "plt.plot(epoch_num, test_accu, label = 'test accuracy')\n",
    "plt.xlabel('no. of epochs')\n",
    "plt.ylabel('Accuracy')\n",
    "plt.legend(loc=\"lower right\")"
   ]
  },
  {
   "cell_type": "code",
   "execution_count": null,
   "metadata": {},
   "outputs": [],
   "source": []
  },
  {
   "cell_type": "code",
   "execution_count": null,
   "metadata": {},
   "outputs": [],
   "source": []
  }
 ],
 "metadata": {
  "kernelspec": {
   "display_name": "Python 3",
   "language": "python",
   "name": "python3"
  },
  "language_info": {
   "codemirror_mode": {
    "name": "ipython",
    "version": 3
   },
   "file_extension": ".py",
   "mimetype": "text/x-python",
   "name": "python",
   "nbconvert_exporter": "python",
   "pygments_lexer": "ipython3",
   "version": "3.7.6"
  }
 },
 "nbformat": 4,
 "nbformat_minor": 4
}
